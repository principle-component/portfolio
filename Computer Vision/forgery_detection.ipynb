{
 "cells": [
  {
   "cell_type": "code",
   "execution_count": null,
   "metadata": {},
   "outputs": [],
   "source": [
    "import pandas as pd \n",
    "import numpy as np\n",
    "import os\n",
    "from matplotlib import pyplot as plt\n",
    "from sklearn.feature_extraction.image import extract_patches_2d\n",
    "from sklearn.model_selection import train_test_split, KFold\n",
    "from sklearn.metrics import precision_score, recall_score, f1_score, matthews_corrcoef, confusion_matrix\n",
    "from sklearn.svm import SVC, OneClassSVM\n",
    "from sklearn.ensemble import IsolationForest, RandomForestClassifier, AdaBoostClassifier\n",
    "from sklearn.neighbors import KNeighborsClassifier\n",
    "from sklearn.naive_bayes import GaussianNB\n",
    "np.random.seed(11)"
   ]
  },
  {
   "cell_type": "markdown",
   "metadata": {},
   "source": [
    "# Preprocessing\n",
    "Loading data, extracting 15,000 100x100 patches per image (selected randomly), shaping into a 2d matrix, creating train/test splits, establishing k folds"
   ]
  },
  {
   "cell_type": "code",
   "execution_count": null,
   "metadata": {},
   "outputs": [],
   "source": [
    "n = 25\n",
    "max_patches = 10000\n",
    "X, y = None, None\n",
    "for artist in os.listdir('images'):\n",
    "    for painting in os.listdir('images/{0}'.format(artist)):\n",
    "        pth = os.path.join('images',artist,painting)\n",
    "        if artist == 'campendonk':\n",
    "            p = round(max_patches/15)\n",
    "        else:\n",
    "            p = round(max_patches/2)\n",
    "        x = extract_patches_2d(plt.imread(pth), patch_size=(n,n), max_patches=p)\n",
    "        if artist == 'campendonk':\n",
    "            y_ = np.zeros(x.shape[0])\n",
    "        else:\n",
    "            y_ = np.ones(x.shape[0])\n",
    "        if X is None:\n",
    "            X = x\n",
    "            y = y_\n",
    "        else:\n",
    "            X = np.vstack((X, x))\n",
    "            y = np.hstack((y, y_))\n",
    "y = y.reshape((-1, 1)).ravel()\n",
    "original_shape = X.shape\n",
    "X = X.reshape((-1, X.shape[1] * X.shape[2] * X.shape[3]))/255\n",
    "X_train, X_test, y_train, y_test = train_test_split(X, y, test_size=.2)\n",
    "sample = np.random.choice(X_train.shape[0], 6000)"
   ]
  },
  {
   "cell_type": "markdown",
   "metadata": {},
   "source": [
    "# KNeighbors"
   ]
  },
  {
   "cell_type": "code",
   "execution_count": null,
   "metadata": {},
   "outputs": [],
   "source": [
    "knn = KNeighborsClassifier(n_jobs=-1)\n",
    "scores = []\n",
    "for i in np.linspace(3,25,10):\n",
    "    knn.set_params(n_neighbors=round(i))\n",
    "    knn.fit(X_train, y_train)\n",
    "    y_pred = knn.predict(X_test)\n",
    "    score = recall_score(y_test, y_pred), precision_score(y_test, y_pred), f1_score(y_test, y_pred), matthews_corrcoef(y_test, y_pred)\n",
    "    scores.append(score)\n",
    "plt.plot([round(i) for i in np.linspace(3,25,10)], scores)\n",
    "plt.title('KNN')\n",
    "plt.xlabel('Neighbors')\n",
    "plt.ylabel('Score')\n",
    "plt.legend(['Recall','Precision','F1','MCC'])\n",
    "plt.savefig('outputs/knn.png')\n",
    "final_k = round(np.linspace(3,25,10)[np.argmax(np.array(scores)[:,1])])\n",
    "knn.set_params(n_neighbors=final_k)\n",
    "knn.fit(X_train, y_train)\n",
    "print(confusion_matrix(y_test, knn.predict(X_test)))"
   ]
  },
  {
   "cell_type": "markdown",
   "metadata": {},
   "source": [
    "# Linear SVM"
   ]
  },
  {
   "cell_type": "code",
   "execution_count": null,
   "metadata": {},
   "outputs": [],
   "source": [
    "svm = SVC(kernel='linear')\n",
    "scores = []\n",
    "for i in np.linspace(.001,100,10):\n",
    "    svm.set_params(C=i)\n",
    "    svm.fit(X_train[sample], y_train[sample])\n",
    "    y_pred = svm.predict(X_test)\n",
    "    score = recall_score(y_test, y_pred), precision_score(y_test, y_pred), f1_score(y_test, y_pred), matthews_corrcoef(y_test, y_pred)\n",
    "    scores.append(score)\n",
    "plt.plot(np.linspace(.0001,100,10), scores)\n",
    "plt.legend(['Recall','Precision','F1','MCC'])\n",
    "plt.title('Linear SVM')\n",
    "plt.xlabel('C')\n",
    "plt.ylabel('Score')\n",
    "plt.savefig('outputs/linear svm.png')\n",
    "final_c = np.linspace(.001,100,10)[np.argmax(np.array(scores)[:,0])]\n",
    "svm.set_params(C=final_c)\n",
    "svm.fit(X_train[sample],y_train[sample])\n",
    "print(confusion_matrix(y_test, svm.predict(X_test)))"
   ]
  },
  {
   "cell_type": "markdown",
   "metadata": {},
   "source": [
    "# RBF SVM"
   ]
  },
  {
   "cell_type": "code",
   "execution_count": null,
   "metadata": {},
   "outputs": [],
   "source": [
    "svm_r = SVC(kernel='rbf')\n",
    "scores = []\n",
    "for i in np.linspace(.001,1,10):\n",
    "    svm_r.set_params(C=i)\n",
    "    svm_r.fit(X_train[sample], y_train[sample])\n",
    "    y_pred = svm_r.predict(X_test)\n",
    "    score = recall_score(y_test, y_pred), precision_score(y_test, y_pred), f1_score(y_test, y_pred), matthews_corrcoef(y_test, y_pred)\n",
    "    scores.append(score)\n",
    "plt.plot(np.linspace(.001,1,10), scores)\n",
    "plt.legend(['Recall','Precision','F1','MCC'])\n",
    "plt.title('RBF SVM')\n",
    "plt.xlabel('C')\n",
    "plt.ylabel('Score')\n",
    "plt.savefig('outputs/rbf svm.png')\n",
    "final_c = np.linspace(.001,1,10)[np.argmax(np.array(scores)[:,0])]\n",
    "svm_r.set_params(C=final_c)\n",
    "svm_r.fit(X_train[sample],y_train[sample])\n",
    "print(confusion_matrix(y_test, svm_r.predict(X_test)))"
   ]
  },
  {
   "cell_type": "markdown",
   "metadata": {},
   "source": [
    "# Random Forest"
   ]
  },
  {
   "cell_type": "code",
   "execution_count": null,
   "metadata": {},
   "outputs": [],
   "source": [
    "rf = RandomForestClassifier(n_jobs=-1)\n",
    "scores = []\n",
    "for i in np.linspace(5,100,10):\n",
    "    rf.set_params(n_estimators=round(i))\n",
    "    rf.fit(X_train, y_train)\n",
    "    y_pred = rf.predict(X_test)\n",
    "    score = recall_score(y_test, y_pred), precision_score(y_test, y_pred), f1_score(y_test, y_pred), matthews_corrcoef(y_test, y_pred)\n",
    "    scores.append(score)\n",
    "plt.plot([round(i) for i in np.linspace(5,100,10)], scores)\n",
    "plt.legend(['Recall','Precision','F1','MCC'])\n",
    "plt.title('Random Forest')\n",
    "plt.xlabel('Trees')\n",
    "plt.ylabel('Score')\n",
    "plt.savefig('outputs/random forest.png')\n",
    "final_trees = round(np.linspace(5,100,10)[np.argmax(np.array(scores)[:,0])])\n",
    "rf.set_params(n_estimators=final_trees)\n",
    "rf.fit(X_train, y_train)\n",
    "print(confusion_matrix(y_test, rf.predict(X_test)))"
   ]
  },
  {
   "cell_type": "markdown",
   "metadata": {},
   "source": [
    "# AdaBoost"
   ]
  },
  {
   "cell_type": "code",
   "execution_count": null,
   "metadata": {},
   "outputs": [],
   "source": [
    "ada = AdaBoostClassifier()\n",
    "scores = []\n",
    "for i in np.linspace(3,150,10):\n",
    "    ada.set_params(n_estimators=round(i))\n",
    "    ada.fit(X_train, y_train)\n",
    "    y_pred = ada.predict(X_test)\n",
    "    score = recall_score(y_test, y_pred), precision_score(y_test, y_pred), f1_score(y_test, y_pred), matthews_corrcoef(y_test, y_pred)\n",
    "    scores.append(score)\n",
    "plt.plot([round(i) for i in np.linspace(3,150,10)], scores)\n",
    "plt.legend(['Recall','Precision','F1','MCC'])\n",
    "plt.title('AdaBoost')\n",
    "plt.xlabel('Stumps')\n",
    "plt.ylabel('Score')\n",
    "plt.savefig('outputs/adaboost.png')\n",
    "final_s = round(np.linspace(3,150,10)[np.argmax(np.array(scores)[:,0])])\n",
    "ada.set_params(n_estimators=final_s)\n",
    "ada.fit(X_train, y_train)\n",
    "print(confusion_matrix(y_test, ada.predict(X_test)))"
   ]
  },
  {
   "cell_type": "markdown",
   "metadata": {},
   "source": [
    "# Naive Bayes"
   ]
  },
  {
   "cell_type": "code",
   "execution_count": null,
   "metadata": {},
   "outputs": [],
   "source": [
    "nb = GaussianNB()\n",
    "scores = []\n",
    "for i in np.linspace(.0001,1,10):\n",
    "    nb.set_params(var_smoothing=i)\n",
    "    nb.fit(X_train, y_train)\n",
    "    y_pred = nb.predict(X_test)\n",
    "    score = recall_score(y_test, y_pred), precision_score(y_test, y_pred), f1_score(y_test, y_pred), matthews_corrcoef(y_test, y_pred)\n",
    "    scores.append(score)\n",
    "plt.plot(np.linspace(.0001,1,10), scores)\n",
    "plt.legend(['Recall','Precision','F1','MCC'])\n",
    "plt.title('Naive Bayes')\n",
    "plt.xlabel('Smoothing')\n",
    "plt.ylabel('Score')\n",
    "plt.savefig('outputs/naive bayes.png')\n",
    "final_v = np.linspace(.0001,1,10)[np.argmax(np.array(scores)[:,0])]\n",
    "nb.set_params(var_smoothing=final_v)\n",
    "nb.fit(X_train, y_train)\n",
    "print(confusion_matrix(y_test, nb.predict(X_test)))"
   ]
  },
  {
   "cell_type": "markdown",
   "metadata": {},
   "source": [
    "# One Class SVM - Linear"
   ]
  },
  {
   "cell_type": "code",
   "execution_count": null,
   "metadata": {},
   "outputs": [],
   "source": [
    "oc_svm_l = OneClassSVM(kernel='linear')\n",
    "scores = []\n",
    "for i in np.linspace(.0001,1,10):\n",
    "    oc_svm_l.set_params(nu=i)\n",
    "    oc_svm_l.fit(X_train[y_train==0])\n",
    "    y_pred = np.where(oc_svm_l.predict(X_test)==1,0,1)\n",
    "    score = recall_score(y_test, y_pred), precision_score(y_test, y_pred), f1_score(y_test, y_pred), matthews_corrcoef(y_test, y_pred)\n",
    "    scores.append(score)\n",
    "plt.plot(np.linspace(.0001,1,10), scores)\n",
    "plt.legend(['Recall','Precision','F1','MCC'])\n",
    "plt.title('One Class SVM - Linear')\n",
    "plt.xlabel('Gamma')\n",
    "plt.ylabel('Score')\n",
    "plt.savefig('outputs/ocsvm-l.png')\n",
    "final_v = np.linspace(.0001,1,10)[np.argmax(np.array(scores)[:,0])]\n",
    "oc_svm_l.set_params(nu=final_v)\n",
    "oc_svm_l.fit(X_train, y_train)\n",
    "print(confusion_matrix(y_test, np.where(oc_svm_l.predict(X_test)==1,0,1)))"
   ]
  },
  {
   "cell_type": "markdown",
   "metadata": {},
   "source": [
    "# One Class SVM - RBF"
   ]
  },
  {
   "cell_type": "code",
   "execution_count": null,
   "metadata": {},
   "outputs": [],
   "source": [
    "oc_svm_r = OneClassSVM(kernel='rbf')\n",
    "scores = []\n",
    "for i in np.linspace(.0001,1,10):\n",
    "    oc_svm_r.set_params(nu=i)\n",
    "    oc_svm_r.fit(X_train[y_train==0])\n",
    "    y_pred = np.where(oc_svm_r.predict(X_test)==1,0,1)\n",
    "    score = recall_score(y_test, y_pred), precision_score(y_test, y_pred), f1_score(y_test, y_pred), matthews_corrcoef(y_test, y_pred)\n",
    "    scores.append(score)\n",
    "plt.plot(np.linspace(.0001,1,10), scores)\n",
    "plt.legend(['Recall','Precision','F1','MCC'])\n",
    "plt.title('One Class SVM - RBF')\n",
    "plt.xlabel('Gamma')\n",
    "plt.ylabel('Score')\n",
    "plt.savefig('outputs/ocsvm-r.png')\n",
    "final_v = np.linspace(.0001,1,10)[np.argmax(np.array(scores)[:,0])]\n",
    "oc_svm_r.set_params(nu=final_v)\n",
    "oc_svm_r.fit(X_train[y_train==0])\n",
    "print(confusion_matrix(y_test, np.where(oc_svm_r.predict(X_test)==1,0,1)))"
   ]
  },
  {
   "cell_type": "markdown",
   "metadata": {},
   "source": [
    "# Isolation Forest"
   ]
  },
  {
   "cell_type": "code",
   "execution_count": null,
   "metadata": {},
   "outputs": [],
   "source": [
    "iso_f = IsolationForest(n_jobs=-1)\n",
    "scores = []\n",
    "for i in np.linspace(5,100,10):\n",
    "    iso_f.set_params(n_estimators=round(i))\n",
    "    iso_f.fit(X_train[y_train==0])\n",
    "    y_pred = np.where(iso_f.predict(X_test)==1,0,1)\n",
    "    score = recall_score(y_test, y_pred), precision_score(y_test, y_pred), f1_score(y_test, y_pred), matthews_corrcoef(y_test, y_pred)\n",
    "    scores.append(score)\n",
    "plt.plot([round(i) for i in np.linspace(5,100,10)], scores)\n",
    "plt.legend(['Recall','Precision','F1','MCC'])\n",
    "plt.title('Isolation Forest')\n",
    "plt.xlabel('Trees')\n",
    "plt.ylabel('Score')\n",
    "plt.savefig('outputs/iso-f.png')\n",
    "final_v = round(np.linspace(5,100,10)[np.argmax(np.array(scores)[:,1])])\n",
    "iso_f.set_params(n_estimators=final_v)\n",
    "iso_f.fit(X_train[y_train==0])\n",
    "print(confusion_matrix(y_test, np.where(iso_f.predict(X_test)==1,0,1)))"
   ]
  },
  {
   "cell_type": "markdown",
   "metadata": {},
   "source": [
    "# Can RandomForest correctly place each image?"
   ]
  },
  {
   "cell_type": "code",
   "execution_count": null,
   "metadata": {},
   "outputs": [],
   "source": [
    "rf = RandomForestClassifier(n_jobs=-1)\n",
    "scores = []\n",
    "for i in np.linspace(21,61,10):\n",
    "    rf.set_params(n_estimators=round(i))\n",
    "    rf.fit(X_train, y_train)\n",
    "    y_pred = rf.predict(X_test)\n",
    "    score = recall_score(y_test, y_pred), precision_score(y_test, y_pred), f1_score(y_test, y_pred), matthews_corrcoef(y_test, y_pred)\n",
    "    scores.append(score)\n",
    "plt.plot([round(i) for i in np.linspace(21,61,10)], scores)\n",
    "plt.legend(['Recall','Precision','F1','MCC'])\n",
    "plt.title('Random Forest')\n",
    "plt.xlabel('Trees')\n",
    "plt.ylabel('Score')\n",
    "plt.savefig('outputs/random forest refinement.png')\n",
    "final_trees = round(np.linspace(21,61,10)[np.argmax(np.array(scores)[:,0])])\n",
    "rf.set_params(n_estimators=final_trees)\n",
    "rf.fit(X_train, y_train)\n",
    "print(confusion_matrix(y_test, rf.predict(X_test)))"
   ]
  },
  {
   "cell_type": "code",
   "execution_count": null,
   "metadata": {},
   "outputs": [],
   "source": [
    "final_trees"
   ]
  },
  {
   "cell_type": "code",
   "execution_count": null,
   "metadata": {},
   "outputs": [],
   "source": [
    "counter = 0\n",
    "max_patches = 500000\n",
    "for artist in os.listdir('images'):\n",
    "    for painting in os.listdir('images/{0}'.format(artist)):\n",
    "        pth = os.path.join('images',artist,painting)\n",
    "        x = extract_patches_2d(plt.imread(pth), patch_size=(n,n), max_patches=max_patches)\n",
    "        x = x.reshape((-1,x.shape[1] * x.shape[2] * x.shape[3]))/255\n",
    "        y = rf.predict(x)\n",
    "        answer = np.mean(y)\n",
    "        if answer >= 0.5:\n",
    "            artist_answer = 'beltracchi'\n",
    "            verdict = 'counterfeit'\n",
    "        else:\n",
    "            artist_answer = 'campendonk'\n",
    "            verdict = 'real'\n",
    "        if artist_answer == artist:\n",
    "            check = 'correct'\n",
    "            counter += 1\n",
    "        else:\n",
    "            check = 'incorrect'\n",
    "        print(\"Painting {0} scored {1}, identifying the artist as {2} and calling it {3}. This answer is {4}\".format(\n",
    "            painting,\n",
    "            str(round(answer,5)),\n",
    "            artist_answer,\n",
    "            verdict,\n",
    "            check\n",
    "        ))\n",
    "print('Total correct: {0} out of 17 ({1}%)'.format(str(counter), str(round(counter/17,4)*100)))"
   ]
  },
  {
   "cell_type": "markdown",
   "metadata": {},
   "source": [
    "# Further experimenting: Test images"
   ]
  },
  {
   "cell_type": "code",
   "execution_count": null,
   "metadata": {},
   "outputs": [],
   "source": [
    "test_paintings = ['Landschaft-mit-Pferden.jpg','bucolic-landscape-1913.jpg']\n",
    "n = 25\n",
    "max_patches = 50000\n",
    "X, y = None, None\n",
    "for artist in os.listdir('images'):\n",
    "    for painting in os.listdir('images/{0}'.format(artist)):\n",
    "        if painting in test_paintings:\n",
    "            continue\n",
    "        pth = os.path.join('images',artist,painting)\n",
    "        if artist == 'campendonk':\n",
    "            p = round(max_patches/15)\n",
    "        else:\n",
    "            p = round(max_patches/2)\n",
    "        x = extract_patches_2d(plt.imread(pth), patch_size=(n,n), max_patches=p)\n",
    "        if artist == 'campendonk':\n",
    "            y_ = np.zeros(x.shape[0])\n",
    "        else:\n",
    "            y_ = np.ones(x.shape[0])\n",
    "        if X is None:\n",
    "            X = x\n",
    "            y = y_\n",
    "        else:\n",
    "            X = np.vstack((X, x))\n",
    "            y = np.hstack((y, y_))\n",
    "y = y.reshape((-1, 1)).ravel()\n",
    "original_shape = X.shape\n",
    "X = X.reshape((-1, X.shape[1] * X.shape[2] * X.shape[3]))/255\n",
    "X_train, X_test, y_train, y_test = train_test_split(X, y, test_size=.2)"
   ]
  },
  {
   "cell_type": "code",
   "execution_count": null,
   "metadata": {},
   "outputs": [],
   "source": [
    "# Searching for generalization\n",
    "rf = RandomForestClassifier(n_jobs=-1)\n",
    "scores = []\n",
    "for i in np.linspace(5,100,10):\n",
    "    rf.set_params(n_estimators=round(i))\n",
    "    rf.fit(X_train, y_train)\n",
    "    y_pred = rf.predict(X_test)\n",
    "    score = recall_score(y_test, y_pred), precision_score(y_test, y_pred), f1_score(y_test, y_pred), matthews_corrcoef(y_test, y_pred)\n",
    "    scores.append(score)\n",
    "plt.plot([round(i) for i in np.linspace(5,100,10)], scores)\n",
    "plt.legend(['Recall','Precision','F1','MCC'])\n",
    "plt.title('Random Forest')\n",
    "plt.xlabel('Trees')\n",
    "plt.ylabel('Score')\n",
    "plt.savefig('outputs/random forest with test condition.png')\n",
    "final_trees = round(np.linspace(5,100,10)[np.argmax(scores[1])])\n",
    "rf.set_params(n_estimators=final_trees)\n",
    "rf.fit(X, y)\n",
    "print(confusion_matrix(y_test, rf.predict(X_test)))"
   ]
  },
  {
   "cell_type": "code",
   "execution_count": null,
   "metadata": {},
   "outputs": [],
   "source": [
    "# Refining\n",
    "rf = RandomForestClassifier(n_jobs=-1)\n",
    "scores = []\n",
    "for i in np.linspace(21,41,20):\n",
    "    rf.set_params(n_estimators=round(i))\n",
    "    rf.fit(X_train, y_train)\n",
    "    y_pred = rf.predict(X_test)\n",
    "    score = recall_score(y_test, y_pred), precision_score(y_test, y_pred), f1_score(y_test, y_pred), matthews_corrcoef(y_test, y_pred)\n",
    "    scores.append(score)\n",
    "plt.plot([round(i) for i in np.linspace(21,41,20)], scores)\n",
    "plt.legend(['Recall','Precision','F1','MCC'])\n",
    "plt.title('Random Forest')\n",
    "plt.xlabel('Trees')\n",
    "plt.ylabel('Score')\n",
    "plt.savefig('outputs/random forest refinement with test condition.png')\n",
    "final_trees = round(np.linspace(21,41,20)[np.argmax(np.array(scores)[:,0])])\n",
    "rf.set_params(n_estimators=final_trees)\n",
    "rf.fit(X, y)\n",
    "print(confusion_matrix(y_test, rf.predict(X_test)))"
   ]
  },
  {
   "cell_type": "code",
   "execution_count": null,
   "metadata": {},
   "outputs": [],
   "source": [
    "final_trees"
   ]
  },
  {
   "cell_type": "code",
   "execution_count": null,
   "metadata": {},
   "outputs": [],
   "source": [
    "counter = 0\n",
    "max_patches = 500000\n",
    "for artist in os.listdir('images'):\n",
    "    for painting in os.listdir('images/{0}'.format(artist)):\n",
    "        if painting not in test_paintings:\n",
    "            continue\n",
    "        pth = os.path.join('images',artist,painting)\n",
    "        x = extract_patches_2d(plt.imread(pth), patch_size=(n,n), max_patches=max_patches)\n",
    "        x = x.reshape((-1,x.shape[1] * x.shape[2] * x.shape[3]))/255\n",
    "        y = rf.predict(x)\n",
    "        answer = np.mean(y)\n",
    "        if answer >= 0.5:\n",
    "            artist_answer = 'beltracchi'\n",
    "            verdict = 'counterfeit'\n",
    "        else:\n",
    "            artist_answer = 'campendonk'\n",
    "            verdict = 'real'\n",
    "        if artist_answer == artist:\n",
    "            check = 'correct'\n",
    "            counter += 1\n",
    "        else:\n",
    "            check = 'incorrect'\n",
    "        print(\"Painting {0} scored {1}, identifying the artist as {2} and calling it {3}. This answer is {4}\".format(\n",
    "            painting,\n",
    "            str(round(answer,5)),\n",
    "            artist_answer,\n",
    "            verdict,\n",
    "            check\n",
    "        ))\n",
    "print('Total correct: {0} out of 2 ({1}%)'.format(str(counter), str(round(counter/2,4)*100)))"
   ]
  },
  {
   "cell_type": "code",
   "execution_count": null,
   "metadata": {},
   "outputs": [],
   "source": []
  }
 ],
 "metadata": {
  "kernelspec": {
   "display_name": "Python 3.8.2 64-bit",
   "language": "python",
   "name": "python3"
  },
  "language_info": {
   "codemirror_mode": {
    "name": "ipython",
    "version": 3
   },
   "file_extension": ".py",
   "mimetype": "text/x-python",
   "name": "python",
   "nbconvert_exporter": "python",
   "pygments_lexer": "ipython3",
   "version": "3.8.2"
  },
  "orig_nbformat": 4,
  "vscode": {
   "interpreter": {
    "hash": "7b3e6bdbbf5153677d0a3bfedb94ab49d1202a0594879e5caf34a7c8e487087c"
   }
  }
 },
 "nbformat": 4,
 "nbformat_minor": 2
}
